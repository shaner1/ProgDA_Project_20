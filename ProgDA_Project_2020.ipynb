{
 "cells": [
  {
   "attachments": {},
   "cell_type": "markdown",
   "metadata": {},
   "source": [
    "![GMIT_Logo.png](GMIT-logo.png)"
   ]
  },
  {
   "cell_type": "markdown",
   "metadata": {},
   "source": [
    "# <div align=\"center\"> Programming For Data Analytics <div> \n",
    "## <div align=\"center\"> Project 2020<div> \n",
    "### <div align=\"center\"> The correlation between obesity and severity of Covid-19 symptoms<div>\n",
    "***"
   ]
  },
  {
   "cell_type": "markdown",
   "metadata": {},
   "source": [
    "Obesity contributes to multiple systemic complications and directly causes the mechanical impairment of vital organs as a result of the accumulation of fatty tissue around these organs.\n",
    "\n",
    "Obesity also significantly interferes with respiratory function by decreasing lung volume, particularly the expiratory reserve volume and functional residual capacity. Because of the ineffectiveness of the respiratory muscles, strength and resistance may be reduced. All these factors lead to inspiratory overload, which increases respiratory effort, oxygen consumption, and respiratory energy expenditure. It is noteworthy that patterns of body fat distribution significantly influence the function of the respiratory system, likely via the direct mechanical effect of fat accumulation in the chest and abdominal regions. Weight loss caused by various types of treatment, including low-calorie diet, intragastric balloon, and bariatric surgery, significantly improves lung function and metabolic syndrome and reduces body mass index. [1]\n",
    "\n",
    "Given the impact obesity has on the respiratory system it is relevenant to investigate the correlation between obesity and susceptability to serve symptoms of Covid-19. Covid 19 is a respiratiory illness caused by the SARS-CoV-2 ( Severe acute respiratory syndrome coronavirus 2) strain of the coronavirus. [2]"
   ]
  },
  {
   "cell_type": "code",
   "execution_count": null,
   "metadata": {},
   "outputs": [],
   "source": []
  },
  {
   "cell_type": "code",
   "execution_count": null,
   "metadata": {},
   "outputs": [],
   "source": []
  },
  {
   "cell_type": "code",
   "execution_count": null,
   "metadata": {},
   "outputs": [],
   "source": []
  },
  {
   "cell_type": "code",
   "execution_count": null,
   "metadata": {},
   "outputs": [],
   "source": []
  },
  {
   "cell_type": "code",
   "execution_count": null,
   "metadata": {},
   "outputs": [],
   "source": []
  },
  {
   "cell_type": "code",
   "execution_count": null,
   "metadata": {},
   "outputs": [],
   "source": []
  },
  {
   "cell_type": "code",
   "execution_count": null,
   "metadata": {},
   "outputs": [],
   "source": []
  },
  {
   "cell_type": "markdown",
   "metadata": {},
   "source": [
    "## References\n",
    "\n",
    "[1] https://mrmjournal.biomedcentral.com/articles/10.1186/s40248-016-0066-z#:~:text=Obesity%20causes%20mechanical%20compression%20of,and%20reduces%20respiratory%20muscle%20strength.\n",
    "\n",
    "[2] https://en.wikipedia.org/wiki/Severe_acute_respiratory_syndrome_coronavirus_2\n",
    "\n",
    "https://hselibrary.ie/what-is-the-risk-of-a-person-with-obesity-contracting-covid-19-compared-to-someone-without-obesity-what-is-the-risk-of-a-person-with-obesity-developing-severe-illness-from-covid-19-how-is-severe-ill/\n",
    "\n",
    "https://onlinelibrary.wiley.com/doi/full/10.1002/oby.22818?campaign=wolacceptedarticle&fbclid=IwAR1HR33IgvVlKadWx0pohO1A64g21vKRq8SFLRNvnoFhR5UsQQiIYNyyaTQ\n",
    "\n",
    "https://www.hopkinsmedicine.org/health/conditions-and-diseases/coronavirus"
   ]
  },
  {
   "cell_type": "code",
   "execution_count": null,
   "metadata": {},
   "outputs": [],
   "source": []
  }
 ],
 "metadata": {
  "kernelspec": {
   "display_name": "Python 3",
   "language": "python",
   "name": "python3"
  },
  "language_info": {
   "codemirror_mode": {
    "name": "ipython",
    "version": 3
   },
   "file_extension": ".py",
   "mimetype": "text/x-python",
   "name": "python",
   "nbconvert_exporter": "python",
   "pygments_lexer": "ipython3",
   "version": "3.7.4"
  }
 },
 "nbformat": 4,
 "nbformat_minor": 2
}
