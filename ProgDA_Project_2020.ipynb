{
 "cells": [
  {
   "cell_type": "markdown",
   "metadata": {},
   "source": [
    "![GMIT_Logo.png](GMIT-logo.png)"
   ]
  },
  {
   "cell_type": "markdown",
   "metadata": {},
   "source": [
    "# Programming For Data Analytics <div> \n",
    "## <div align=\"center\"> Project 2020<div> \n",
    "### <div align=\"center\"> The correlation between obesity and severity of Covid-19 symptoms<div>\n",
    "***"
   ]
  },
  {
   "cell_type": "markdown",
   "metadata": {},
   "source": [
    "Obesity contributes to multiple systemic complications and directly causes the mechanical impairment of vital organs as a result of the accumulation of fatty tissue around these organs.\n",
    "\n",
    "Obesity also significantly interferes with respiratory function by decreasing lung volume, particularly the expiratory reserve volume and functional residual capacity. Because of the ineffectiveness of the respiratory muscles, strength and resistance may be reduced. All these factors lead to inspiratory overload, which increases respiratory effort, oxygen consumption, and respiratory energy expenditure. It is noteworthy that patterns of body fat distribution significantly influence the function of the respiratory system, likely via the direct mechanical effect of fat accumulation in the chest and abdominal regions. Weight loss caused by various types of treatment, including low-calorie diet, intragastric balloon, and bariatric surgery, significantly improves lung function and metabolic syndrome and reduces body mass index. [1]\n",
    "\n",
    "Given the impact obesity has on the respiratory system it is relevenant to investigate the correlation between obesity and susceptability to serve symptoms of Covid-19. Covid 19 is a respiratiory illness caused by the SARS-CoV-2 ( Severe acute respiratory syndrome coronavirus 2) strain of the coronavirus. [2]"
   ]
  },
  {
   "cell_type": "markdown",
   "metadata": {},
   "source": [
    "An explanation for the reason why mortality rates were higher in Italy than China "
   ]
  },
  {
   "cell_type": "code",
   "execution_count": 1,
   "metadata": {},
   "outputs": [],
   "source": [
    "import numpy as np\n",
    "import pandas as pd\n",
    "import matplotlib.pyplot as plt\n",
    "import seaborn as sns "
   ]
  },
  {
   "cell_type": "markdown",
   "metadata": {},
   "source": [
    "## Creating My Variables\n"
   ]
  },
  {
   "cell_type": "markdown",
   "metadata": {},
   "source": [
    "The first parameters I wanted to create are age and sex. The reason for this is I want them to be randomly applied to the entire group.\n",
    "\n",
    "Age \n",
    "To rule out any age dependant susceptabilities to serve symptoms of Covid-19, I shall be taking a random sample of 1000 people from the 18-24 age range, which is the demographic show shown to have the lowest rates of morality due to COvid-19[3][4]\n",
    "\n",
    "Although studies have shown little data to suspect an age depent susceptability to Covid-19 nFor age I shall be taken a random sample of 1000 in the 25-34 to rule the possibility of age dependent susceptability to Covid-19"
   ]
  },
  {
   "cell_type": "markdown",
   "metadata": {},
   "source": [
    "## Age\n",
    "\n",
    "A common demographic age range is 25-34 "
   ]
  },
  {
   "cell_type": "code",
   "execution_count": 2,
   "metadata": {},
   "outputs": [],
   "source": [
    "rng = np.random.default_rng()\n",
    "age = rng.integers(18,25,1000)\n"
   ]
  },
  {
   "cell_type": "code",
   "execution_count": 3,
   "metadata": {
    "scrolled": true
   },
   "outputs": [
    {
     "data": {
      "text/plain": [
       "array([21, 24, 23, 21, 18, 19, 23, 20, 18, 24, 22, 24, 20, 19, 23, 19, 21,\n",
       "       21, 24, 24, 23, 23, 22, 20, 22, 24, 19, 18, 21, 21, 21, 22, 19, 24,\n",
       "       19, 21, 18, 20, 18, 18, 19, 23, 22, 23, 21, 20, 21, 20, 18, 21, 22,\n",
       "       18, 20, 19, 21, 24, 24, 20, 22, 22, 23, 19, 21, 20, 20, 22, 22, 21,\n",
       "       23, 24, 24, 22, 22, 21, 21, 20, 19, 21, 21, 23, 24, 23, 19, 18, 18,\n",
       "       19, 19, 24, 21, 18, 20, 21, 18, 18, 20, 22, 21, 23, 20, 23, 21, 24,\n",
       "       18, 19, 18, 18, 19, 24, 21, 24, 20, 18, 20, 19, 24, 23, 20, 21, 24,\n",
       "       22, 21, 21, 24, 22, 22, 22, 20, 20, 19, 19, 20, 18, 23, 18, 24, 21,\n",
       "       20, 22, 21, 20, 21, 22, 24, 20, 24, 20, 18, 20, 24, 18, 21, 23, 19,\n",
       "       22, 21, 21, 19, 20, 18, 22, 18, 18, 22, 19, 20, 19, 18, 21, 18, 22,\n",
       "       20, 19, 22, 22, 24, 22, 20, 20, 20, 20, 20, 24, 18, 22, 20, 22, 20,\n",
       "       24, 22, 24, 19, 21, 19, 23, 19, 19, 18, 20, 21, 20, 22, 22, 24, 23,\n",
       "       24, 21, 18, 20, 20, 18, 23, 24, 20, 21, 24, 19, 22, 22, 21, 23, 18,\n",
       "       24, 18, 18, 20, 20, 20, 20, 18, 18, 23, 19, 20, 22, 19, 18, 19, 20,\n",
       "       18, 22, 24, 23, 24, 23, 20, 18, 23, 20, 20, 19, 23, 20, 22, 24, 20,\n",
       "       20, 19, 18, 19, 19, 24, 19, 22, 21, 20, 22, 23, 21, 21, 22, 20, 19,\n",
       "       24, 19, 18, 20, 20, 23, 24, 24, 20, 22, 24, 23, 24, 24, 19, 19, 24,\n",
       "       22, 19, 24, 21, 19, 22, 24, 18, 18, 24, 20, 18, 18, 24, 22, 18, 20,\n",
       "       22, 23, 21, 19, 21, 24, 24, 18, 22, 21, 22, 20, 22, 23, 19, 24, 18,\n",
       "       21, 24, 23, 24, 18, 20, 23, 21, 19, 22, 18, 18, 22, 24, 18, 24, 21,\n",
       "       21, 19, 21, 21, 23, 23, 22, 19, 23, 19, 20, 20, 21, 22, 18, 24, 23,\n",
       "       18, 24, 22, 24, 20, 22, 18, 23, 19, 21, 21, 23, 23, 18, 19, 18, 18,\n",
       "       20, 23, 20, 21, 21, 23, 24, 24, 20, 19, 19, 18, 21, 19, 24, 21, 24,\n",
       "       22, 24, 22, 21, 20, 22, 19, 19, 24, 18, 20, 21, 23, 18, 24, 21, 19,\n",
       "       18, 23, 18, 20, 18, 24, 20, 22, 23, 18, 20, 21, 22, 24, 20, 22, 24,\n",
       "       22, 22, 19, 21, 21, 19, 21, 22, 24, 19, 23, 21, 18, 23, 20, 19, 22,\n",
       "       21, 22, 23, 20, 22, 18, 18, 22, 19, 19, 23, 22, 19, 21, 19, 19, 21,\n",
       "       18, 21, 24, 20, 22, 18, 24, 21, 20, 18, 24, 24, 19, 24, 21, 24, 19,\n",
       "       24, 23, 22, 18, 23, 21, 22, 22, 22, 19, 22, 18, 20, 19, 22, 20, 24,\n",
       "       18, 24, 22, 20, 18, 19, 21, 22, 18, 19, 22, 21, 19, 20, 22, 22, 24,\n",
       "       19, 21, 21, 23, 18, 24, 19, 21, 18, 21, 20, 20, 18, 18, 19, 24, 22,\n",
       "       21, 22, 24, 22, 19, 21, 20, 18, 19, 22, 23, 23, 20, 21, 19, 24, 18,\n",
       "       23, 24, 23, 19, 18, 18, 22, 21, 18, 19, 21, 19, 20, 20, 22, 24, 23,\n",
       "       20, 18, 22, 19, 18, 20, 19, 20, 23, 22, 23, 20, 23, 18, 19, 22, 24,\n",
       "       23, 24, 21, 21, 21, 20, 21, 23, 21, 21, 20, 20, 21, 24, 21, 23, 18,\n",
       "       21, 21, 18, 22, 20, 22, 19, 21, 19, 20, 20, 24, 19, 19, 19, 24, 21,\n",
       "       18, 20, 20, 21, 22, 20, 21, 24, 20, 22, 18, 18, 23, 24, 21, 18, 19,\n",
       "       21, 24, 22, 22, 23, 20, 23, 21, 20, 22, 18, 21, 19, 19, 24, 21, 18,\n",
       "       24, 22, 24, 23, 21, 18, 21, 24, 24, 23, 19, 18, 20, 20, 22, 22, 24,\n",
       "       19, 18, 22, 20, 24, 18, 24, 23, 21, 20, 23, 18, 22, 22, 22, 24, 18,\n",
       "       23, 19, 21, 20, 22, 22, 21, 21, 23, 20, 18, 23, 24, 23, 19, 24, 23,\n",
       "       23, 20, 23, 21, 22, 24, 24, 20, 18, 19, 20, 20, 21, 23, 20, 21, 21,\n",
       "       21, 22, 22, 20, 19, 22, 23, 18, 18, 19, 19, 23, 20, 20, 20, 20, 19,\n",
       "       20, 18, 23, 24, 24, 18, 23, 24, 18, 19, 24, 19, 20, 23, 18, 19, 18,\n",
       "       21, 19, 20, 21, 18, 18, 21, 20, 23, 20, 23, 22, 20, 19, 24, 22, 20,\n",
       "       18, 18, 22, 22, 23, 22, 20, 18, 23, 24, 19, 21, 21, 18, 23, 24, 24,\n",
       "       18, 21, 22, 18, 18, 23, 21, 24, 18, 18, 20, 24, 18, 18, 19, 24, 19,\n",
       "       24, 22, 22, 18, 23, 24, 19, 22, 18, 22, 22, 18, 24, 19, 24, 24, 18,\n",
       "       19, 24, 24, 22, 20, 23, 24, 22, 22, 20, 22, 22, 22, 19, 20, 23, 18,\n",
       "       20, 21, 23, 21, 21, 23, 23, 24, 22, 23, 21, 20, 18, 22, 23, 24, 20,\n",
       "       20, 20, 20, 24, 20, 22, 19, 20, 21, 24, 18, 24, 18, 19, 19, 18, 24,\n",
       "       24, 20, 22, 23, 19, 19, 20, 20, 21, 23, 24, 19, 24, 21, 24, 20, 20,\n",
       "       18, 22, 18, 24, 20, 24, 20, 18, 23, 22, 21, 20, 20, 20, 19, 22, 19,\n",
       "       21, 22, 23, 19, 20, 21, 18, 22, 20, 19, 24, 19, 22, 23, 24, 22, 20,\n",
       "       23, 19, 20, 20, 20, 21, 18, 22, 24, 24, 21, 20, 22, 21, 20, 24, 21,\n",
       "       19, 19, 18, 23, 18, 20, 20, 23, 20, 20, 24, 18, 24, 20, 22, 19, 18,\n",
       "       24, 18, 22, 24, 20, 23, 23, 19, 18, 23, 20, 19, 19, 22, 18, 18, 19,\n",
       "       18, 21, 18, 21, 22, 22, 18, 19, 23, 18, 22, 20, 18, 18, 19, 22, 20,\n",
       "       21, 21, 18, 22, 18, 20, 23, 24, 18, 20, 21, 24, 24, 20])"
      ]
     },
     "execution_count": 3,
     "metadata": {},
     "output_type": "execute_result"
    }
   ],
   "source": [
    "age"
   ]
  },
  {
   "cell_type": "code",
   "execution_count": 4,
   "metadata": {
    "scrolled": true
   },
   "outputs": [
    {
     "data": {
      "text/plain": [
       "(array([154., 134.,   0., 169.,   0., 140., 146.,   0., 109., 148.]),\n",
       " array([18. , 18.6, 19.2, 19.8, 20.4, 21. , 21.6, 22.2, 22.8, 23.4, 24. ]),\n",
       " <a list of 10 Patch objects>)"
      ]
     },
     "execution_count": 4,
     "metadata": {},
     "output_type": "execute_result"
    },
    {
     "data": {
      "image/png": "[encoded data removed]",
      "text/plain": [
       "<Figure size 432x288 with 1 Axes>"
      ]
     },
     "metadata": {
      "needs_background": "light"
     },
     "output_type": "display_data"
    }
   ],
   "source": [
    "plt.hist(age)"
   ]
  },
  {
   "cell_type": "code",
   "execution_count": 5,
   "metadata": {},
   "outputs": [],
   "source": [
    "s = ['male', 'female']\n",
    "sex = rng.choice(s, 1000, p=[0.5, 0.5])"
   ]
  },
  {
   "cell_type": "code",
   "execution_count": 6,
   "metadata": {},
   "outputs": [],
   "source": [
    "#variables = [[age],[sex]]"
   ]
  },
  {
   "cell_type": "code",
   "execution_count": 7,
   "metadata": {},
   "outputs": [],
   "source": [
    "#df = pd.DataFrame(variables, columns=[\"Age\", \"Sex\"])\n"
   ]
  },
  {
   "cell_type": "code",
   "execution_count": 8,
   "metadata": {},
   "outputs": [
    {
     "ename": "NameError",
     "evalue": "name 'df' is not defined",
     "output_type": "error",
     "traceback": [
      "\u001b[0;31m---------------------------------------------------------------------------\u001b[0m",
      "\u001b[0;31mNameError\u001b[0m                                 Traceback (most recent call last)",
      "\u001b[0;32m<ipython-input-8-00cf07b74dcd>\u001b[0m in \u001b[0;36m<module>\u001b[0;34m\u001b[0m\n\u001b[0;32m----> 1\u001b[0;31m \u001b[0mdf\u001b[0m\u001b[0;34m\u001b[0m\u001b[0;34m\u001b[0m\u001b[0m\n\u001b[0m",
      "\u001b[0;31mNameError\u001b[0m: name 'df' is not defined"
     ]
    }
   ],
   "source": [
    "df"
   ]
  },
  {
   "cell_type": "code",
   "execution_count": 9,
   "metadata": {},
   "outputs": [],
   "source": [
    "s = ['male', 'female']\n",
    "sex = rng.choice(s, 1000, p=[0.5, 0.5]).reshape(1000,1)"
   ]
  },
  {
   "cell_type": "code",
   "execution_count": 10,
   "metadata": {},
   "outputs": [
    {
     "data": {
      "text/html": [
       "<div>\n",
       "<style scoped>\n",
       "    .dataframe tbody tr th:only-of-type {\n",
       "        vertical-align: middle;\n",
       "    }\n",
       "\n",
       "    .dataframe tbody tr th {\n",
       "        vertical-align: top;\n",
       "    }\n",
       "\n",
       "    .dataframe thead th {\n",
       "        text-align: right;\n",
       "    }\n",
       "</style>\n",
       "<table border=\"1\" class=\"dataframe\">\n",
       "  <thead>\n",
       "    <tr style=\"text-align: right;\">\n",
       "      <th></th>\n",
       "      <th>Age</th>\n",
       "    </tr>\n",
       "  </thead>\n",
       "  <tbody>\n",
       "    <tr>\n",
       "      <td>0</td>\n",
       "      <td>21</td>\n",
       "    </tr>\n",
       "    <tr>\n",
       "      <td>1</td>\n",
       "      <td>24</td>\n",
       "    </tr>\n",
       "    <tr>\n",
       "      <td>2</td>\n",
       "      <td>23</td>\n",
       "    </tr>\n",
       "    <tr>\n",
       "      <td>3</td>\n",
       "      <td>21</td>\n",
       "    </tr>\n",
       "    <tr>\n",
       "      <td>4</td>\n",
       "      <td>18</td>\n",
       "    </tr>\n",
       "    <tr>\n",
       "      <td>...</td>\n",
       "      <td>...</td>\n",
       "    </tr>\n",
       "    <tr>\n",
       "      <td>995</td>\n",
       "      <td>20</td>\n",
       "    </tr>\n",
       "    <tr>\n",
       "      <td>996</td>\n",
       "      <td>21</td>\n",
       "    </tr>\n",
       "    <tr>\n",
       "      <td>997</td>\n",
       "      <td>24</td>\n",
       "    </tr>\n",
       "    <tr>\n",
       "      <td>998</td>\n",
       "      <td>24</td>\n",
       "    </tr>\n",
       "    <tr>\n",
       "      <td>999</td>\n",
       "      <td>20</td>\n",
       "    </tr>\n",
       "  </tbody>\n",
       "</table>\n",
       "<p>1000 rows × 1 columns</p>\n",
       "</div>"
      ],
      "text/plain": [
       "     Age\n",
       "0     21\n",
       "1     24\n",
       "2     23\n",
       "3     21\n",
       "4     18\n",
       "..   ...\n",
       "995   20\n",
       "996   21\n",
       "997   24\n",
       "998   24\n",
       "999   20\n",
       "\n",
       "[1000 rows x 1 columns]"
      ]
     },
     "execution_count": 10,
     "metadata": {},
     "output_type": "execute_result"
    }
   ],
   "source": [
    "# To create my dataframe I need to initialize a list containing my parameters  \n",
    "#parameters = [age] \n",
    "  \n",
    "# Create the pandas DataFrame \n",
    "df = pd.DataFrame(age, columns = ['Age']) \n",
    "  \n",
    "# print dataframe. \n",
    "df"
   ]
  },
  {
   "cell_type": "code",
   "execution_count": 11,
   "metadata": {},
   "outputs": [],
   "source": [
    "df['Sex'] = rng.choice(s, 1000, p=[0.5, 0.5]).reshape(1000,1)"
   ]
  },
  {
   "cell_type": "code",
   "execution_count": 12,
   "metadata": {},
   "outputs": [
    {
     "data": {
      "text/html": [
       "<div>\n",
       "<style scoped>\n",
       "    .dataframe tbody tr th:only-of-type {\n",
       "        vertical-align: middle;\n",
       "    }\n",
       "\n",
       "    .dataframe tbody tr th {\n",
       "        vertical-align: top;\n",
       "    }\n",
       "\n",
       "    .dataframe thead th {\n",
       "        text-align: right;\n",
       "    }\n",
       "</style>\n",
       "<table border=\"1\" class=\"dataframe\">\n",
       "  <thead>\n",
       "    <tr style=\"text-align: right;\">\n",
       "      <th></th>\n",
       "      <th>Age</th>\n",
       "      <th>Sex</th>\n",
       "    </tr>\n",
       "  </thead>\n",
       "  <tbody>\n",
       "    <tr>\n",
       "      <td>0</td>\n",
       "      <td>21</td>\n",
       "      <td>male</td>\n",
       "    </tr>\n",
       "    <tr>\n",
       "      <td>1</td>\n",
       "      <td>24</td>\n",
       "      <td>male</td>\n",
       "    </tr>\n",
       "    <tr>\n",
       "      <td>2</td>\n",
       "      <td>23</td>\n",
       "      <td>male</td>\n",
       "    </tr>\n",
       "    <tr>\n",
       "      <td>3</td>\n",
       "      <td>21</td>\n",
       "      <td>male</td>\n",
       "    </tr>\n",
       "    <tr>\n",
       "      <td>4</td>\n",
       "      <td>18</td>\n",
       "      <td>female</td>\n",
       "    </tr>\n",
       "    <tr>\n",
       "      <td>...</td>\n",
       "      <td>...</td>\n",
       "      <td>...</td>\n",
       "    </tr>\n",
       "    <tr>\n",
       "      <td>995</td>\n",
       "      <td>20</td>\n",
       "      <td>male</td>\n",
       "    </tr>\n",
       "    <tr>\n",
       "      <td>996</td>\n",
       "      <td>21</td>\n",
       "      <td>female</td>\n",
       "    </tr>\n",
       "    <tr>\n",
       "      <td>997</td>\n",
       "      <td>24</td>\n",
       "      <td>male</td>\n",
       "    </tr>\n",
       "    <tr>\n",
       "      <td>998</td>\n",
       "      <td>24</td>\n",
       "      <td>female</td>\n",
       "    </tr>\n",
       "    <tr>\n",
       "      <td>999</td>\n",
       "      <td>20</td>\n",
       "      <td>male</td>\n",
       "    </tr>\n",
       "  </tbody>\n",
       "</table>\n",
       "<p>1000 rows × 2 columns</p>\n",
       "</div>"
      ],
      "text/plain": [
       "     Age     Sex\n",
       "0     21    male\n",
       "1     24    male\n",
       "2     23    male\n",
       "3     21    male\n",
       "4     18  female\n",
       "..   ...     ...\n",
       "995   20    male\n",
       "996   21  female\n",
       "997   24    male\n",
       "998   24  female\n",
       "999   20    male\n",
       "\n",
       "[1000 rows x 2 columns]"
      ]
     },
     "execution_count": 12,
     "metadata": {},
     "output_type": "execute_result"
    }
   ],
   "source": [
    "df"
   ]
  },
  {
   "cell_type": "code",
   "execution_count": 13,
   "metadata": {},
   "outputs": [],
   "source": [
    "df['Height']= 0"
   ]
  },
  {
   "cell_type": "code",
   "execution_count": 14,
   "metadata": {},
   "outputs": [
    {
     "name": "stderr",
     "output_type": "stream",
     "text": [
      "/Users/Shane/opt/anaconda3/lib/python3.7/site-packages/ipykernel_launcher.py:3: SettingWithCopyWarning: \n",
      "A value is trying to be set on a copy of a slice from a DataFrame\n",
      "\n",
      "See the caveats in the documentation: http://pandas.pydata.org/pandas-docs/stable/user_guide/indexing.html#returning-a-view-versus-a-copy\n",
      "  This is separate from the ipykernel package so we can avoid doing imports until\n",
      "/Users/Shane/opt/anaconda3/lib/python3.7/site-packages/ipykernel_launcher.py:5: SettingWithCopyWarning: \n",
      "A value is trying to be set on a copy of a slice from a DataFrame\n",
      "\n",
      "See the caveats in the documentation: http://pandas.pydata.org/pandas-docs/stable/user_guide/indexing.html#returning-a-view-versus-a-copy\n",
      "  \"\"\"\n"
     ]
    }
   ],
   "source": [
    "for i in range(len(df)):\n",
    "    if df[\"Sex\"][i]==\"male\":\n",
    "        df[\"Height\"][i]=rng.normal(172,8)\n",
    "    else:\n",
    "        df[\"Height\"][i]=rng.normal(172,8)"
   ]
  },
  {
   "cell_type": "code",
   "execution_count": 15,
   "metadata": {},
   "outputs": [
    {
     "data": {
      "text/html": [
       "<div>\n",
       "<style scoped>\n",
       "    .dataframe tbody tr th:only-of-type {\n",
       "        vertical-align: middle;\n",
       "    }\n",
       "\n",
       "    .dataframe tbody tr th {\n",
       "        vertical-align: top;\n",
       "    }\n",
       "\n",
       "    .dataframe thead th {\n",
       "        text-align: right;\n",
       "    }\n",
       "</style>\n",
       "<table border=\"1\" class=\"dataframe\">\n",
       "  <thead>\n",
       "    <tr style=\"text-align: right;\">\n",
       "      <th></th>\n",
       "      <th>Age</th>\n",
       "      <th>Sex</th>\n",
       "      <th>Height</th>\n",
       "    </tr>\n",
       "  </thead>\n",
       "  <tbody>\n",
       "    <tr>\n",
       "      <td>0</td>\n",
       "      <td>21</td>\n",
       "      <td>male</td>\n",
       "      <td>171</td>\n",
       "    </tr>\n",
       "    <tr>\n",
       "      <td>1</td>\n",
       "      <td>24</td>\n",
       "      <td>male</td>\n",
       "      <td>176</td>\n",
       "    </tr>\n",
       "    <tr>\n",
       "      <td>2</td>\n",
       "      <td>23</td>\n",
       "      <td>male</td>\n",
       "      <td>180</td>\n",
       "    </tr>\n",
       "    <tr>\n",
       "      <td>3</td>\n",
       "      <td>21</td>\n",
       "      <td>male</td>\n",
       "      <td>168</td>\n",
       "    </tr>\n",
       "    <tr>\n",
       "      <td>4</td>\n",
       "      <td>18</td>\n",
       "      <td>female</td>\n",
       "      <td>181</td>\n",
       "    </tr>\n",
       "    <tr>\n",
       "      <td>...</td>\n",
       "      <td>...</td>\n",
       "      <td>...</td>\n",
       "      <td>...</td>\n",
       "    </tr>\n",
       "    <tr>\n",
       "      <td>995</td>\n",
       "      <td>20</td>\n",
       "      <td>male</td>\n",
       "      <td>149</td>\n",
       "    </tr>\n",
       "    <tr>\n",
       "      <td>996</td>\n",
       "      <td>21</td>\n",
       "      <td>female</td>\n",
       "      <td>166</td>\n",
       "    </tr>\n",
       "    <tr>\n",
       "      <td>997</td>\n",
       "      <td>24</td>\n",
       "      <td>male</td>\n",
       "      <td>174</td>\n",
       "    </tr>\n",
       "    <tr>\n",
       "      <td>998</td>\n",
       "      <td>24</td>\n",
       "      <td>female</td>\n",
       "      <td>161</td>\n",
       "    </tr>\n",
       "    <tr>\n",
       "      <td>999</td>\n",
       "      <td>20</td>\n",
       "      <td>male</td>\n",
       "      <td>172</td>\n",
       "    </tr>\n",
       "  </tbody>\n",
       "</table>\n",
       "<p>1000 rows × 3 columns</p>\n",
       "</div>"
      ],
      "text/plain": [
       "     Age     Sex  Height\n",
       "0     21    male     171\n",
       "1     24    male     176\n",
       "2     23    male     180\n",
       "3     21    male     168\n",
       "4     18  female     181\n",
       "..   ...     ...     ...\n",
       "995   20    male     149\n",
       "996   21  female     166\n",
       "997   24    male     174\n",
       "998   24  female     161\n",
       "999   20    male     172\n",
       "\n",
       "[1000 rows x 3 columns]"
      ]
     },
     "execution_count": 15,
     "metadata": {},
     "output_type": "execute_result"
    }
   ],
   "source": [
    "df"
   ]
  },
  {
   "cell_type": "code",
   "execution_count": 16,
   "metadata": {},
   "outputs": [
    {
     "data": {
      "text/plain": [
       "array([[<matplotlib.axes._subplots.AxesSubplot object at 0x7f966f8109d0>,\n",
       "        <matplotlib.axes._subplots.AxesSubplot object at 0x7f966fab3850>]],\n",
       "      dtype=object)"
      ]
     },
     "execution_count": 16,
     "metadata": {},
     "output_type": "execute_result"
    },
    {
     "data": {
      "image/png": "[encoded data removed]",
      "text/plain": [
       "<Figure size 432x288 with 2 Axes>"
      ]
     },
     "metadata": {
      "needs_background": "light"
     },
     "output_type": "display_data"
    }
   ],
   "source": [
    "df.hist()"
   ]
  },
  {
   "cell_type": "code",
   "execution_count": 136,
   "metadata": {},
   "outputs": [],
   "source": [
    "#df['Height']= height"
   ]
  },
  {
   "cell_type": "code",
   "execution_count": 137,
   "metadata": {},
   "outputs": [],
   "source": [
    "#df['Weight']= rng.normal(72,20)"
   ]
  },
  {
   "cell_type": "code",
   "execution_count": 138,
   "metadata": {},
   "outputs": [],
   "source": [
    "#df['BMI'] = df['Height']/df['Weight']"
   ]
  },
  {
   "cell_type": "code",
   "execution_count": 139,
   "metadata": {},
   "outputs": [],
   "source": [
    "#df"
   ]
  },
  {
   "cell_type": "code",
   "execution_count": 140,
   "metadata": {},
   "outputs": [
    {
     "data": {
      "text/html": [
       "<div>\n",
       "<style scoped>\n",
       "    .dataframe tbody tr th:only-of-type {\n",
       "        vertical-align: middle;\n",
       "    }\n",
       "\n",
       "    .dataframe tbody tr th {\n",
       "        vertical-align: top;\n",
       "    }\n",
       "\n",
       "    .dataframe thead th {\n",
       "        text-align: right;\n",
       "    }\n",
       "</style>\n",
       "<table border=\"1\" class=\"dataframe\">\n",
       "  <thead>\n",
       "    <tr style=\"text-align: right;\">\n",
       "      <th></th>\n",
       "      <th>Age</th>\n",
       "      <th>Sex</th>\n",
       "      <th>Height</th>\n",
       "      <th>Weight</th>\n",
       "      <th>BMI</th>\n",
       "    </tr>\n",
       "  </thead>\n",
       "  <tbody>\n",
       "    <tr>\n",
       "      <td>0</td>\n",
       "      <td>23</td>\n",
       "      <td>male</td>\n",
       "      <td>167</td>\n",
       "      <td>98.320804</td>\n",
       "      <td>1.769717</td>\n",
       "    </tr>\n",
       "    <tr>\n",
       "      <td>1</td>\n",
       "      <td>21</td>\n",
       "      <td>male</td>\n",
       "      <td>172</td>\n",
       "      <td>98.320804</td>\n",
       "      <td>1.668009</td>\n",
       "    </tr>\n",
       "    <tr>\n",
       "      <td>2</td>\n",
       "      <td>19</td>\n",
       "      <td>female</td>\n",
       "      <td>172</td>\n",
       "      <td>98.320804</td>\n",
       "      <td>1.678180</td>\n",
       "    </tr>\n",
       "    <tr>\n",
       "      <td>3</td>\n",
       "      <td>18</td>\n",
       "      <td>female</td>\n",
       "      <td>163</td>\n",
       "      <td>98.320804</td>\n",
       "      <td>1.779888</td>\n",
       "    </tr>\n",
       "    <tr>\n",
       "      <td>4</td>\n",
       "      <td>23</td>\n",
       "      <td>male</td>\n",
       "      <td>178</td>\n",
       "      <td>98.320804</td>\n",
       "      <td>1.901937</td>\n",
       "    </tr>\n",
       "    <tr>\n",
       "      <td>...</td>\n",
       "      <td>...</td>\n",
       "      <td>...</td>\n",
       "      <td>...</td>\n",
       "      <td>...</td>\n",
       "      <td>...</td>\n",
       "    </tr>\n",
       "    <tr>\n",
       "      <td>995</td>\n",
       "      <td>21</td>\n",
       "      <td>male</td>\n",
       "      <td>163</td>\n",
       "      <td>98.320804</td>\n",
       "      <td>1.759546</td>\n",
       "    </tr>\n",
       "    <tr>\n",
       "      <td>996</td>\n",
       "      <td>23</td>\n",
       "      <td>female</td>\n",
       "      <td>184</td>\n",
       "      <td>98.320804</td>\n",
       "      <td>1.810400</td>\n",
       "    </tr>\n",
       "    <tr>\n",
       "      <td>997</td>\n",
       "      <td>18</td>\n",
       "      <td>female</td>\n",
       "      <td>167</td>\n",
       "      <td>98.320804</td>\n",
       "      <td>1.698522</td>\n",
       "    </tr>\n",
       "    <tr>\n",
       "      <td>998</td>\n",
       "      <td>22</td>\n",
       "      <td>male</td>\n",
       "      <td>175</td>\n",
       "      <td>98.320804</td>\n",
       "      <td>1.769717</td>\n",
       "    </tr>\n",
       "    <tr>\n",
       "      <td>999</td>\n",
       "      <td>22</td>\n",
       "      <td>male</td>\n",
       "      <td>175</td>\n",
       "      <td>98.320804</td>\n",
       "      <td>1.556130</td>\n",
       "    </tr>\n",
       "  </tbody>\n",
       "</table>\n",
       "<p>1000 rows × 5 columns</p>\n",
       "</div>"
      ],
      "text/plain": [
       "     Age     Sex  Height     Weight       BMI\n",
       "0     23    male     167  98.320804  1.769717\n",
       "1     21    male     172  98.320804  1.668009\n",
       "2     19  female     172  98.320804  1.678180\n",
       "3     18  female     163  98.320804  1.779888\n",
       "4     23    male     178  98.320804  1.901937\n",
       "..   ...     ...     ...        ...       ...\n",
       "995   21    male     163  98.320804  1.759546\n",
       "996   23  female     184  98.320804  1.810400\n",
       "997   18  female     167  98.320804  1.698522\n",
       "998   22    male     175  98.320804  1.769717\n",
       "999   22    male     175  98.320804  1.556130\n",
       "\n",
       "[1000 rows x 5 columns]"
      ]
     },
     "execution_count": 140,
     "metadata": {},
     "output_type": "execute_result"
    }
   ],
   "source": [
    "df"
   ]
  },
  {
   "cell_type": "code",
   "execution_count": 117,
   "metadata": {},
   "outputs": [
    {
     "name": "stderr",
     "output_type": "stream",
     "text": [
      "/Users/Shane/opt/anaconda3/lib/python3.7/site-packages/ipykernel_launcher.py:5: SettingWithCopyWarning: \n",
      "A value is trying to be set on a copy of a slice from a DataFrame\n",
      "\n",
      "See the caveats in the documentation: http://pandas.pydata.org/pandas-docs/stable/user_guide/indexing.html#returning-a-view-versus-a-copy\n",
      "  \"\"\"\n",
      "/Users/Shane/opt/anaconda3/lib/python3.7/site-packages/pandas/core/indexing.py:205: SettingWithCopyWarning: \n",
      "A value is trying to be set on a copy of a slice from a DataFrame\n",
      "\n",
      "See the caveats in the documentation: http://pandas.pydata.org/pandas-docs/stable/user_guide/indexing.html#returning-a-view-versus-a-copy\n",
      "  self._setitem_with_indexer(indexer, value)\n"
     ]
    },
    {
     "ename": "ValueError",
     "evalue": "setting an array element with a sequence.",
     "output_type": "error",
     "traceback": [
      "\u001b[0;31m---------------------------------------------------------------------------\u001b[0m",
      "\u001b[0;31mValueError\u001b[0m                                Traceback (most recent call last)",
      "\u001b[0;32m~/opt/anaconda3/lib/python3.7/site-packages/pandas/core/series.py\u001b[0m in \u001b[0;36msetitem\u001b[0;34m(key, value)\u001b[0m\n\u001b[1;32m   1189\u001b[0m             \u001b[0;32mtry\u001b[0m\u001b[0;34m:\u001b[0m\u001b[0;34m\u001b[0m\u001b[0;34m\u001b[0m\u001b[0m\n\u001b[0;32m-> 1190\u001b[0;31m                 \u001b[0mself\u001b[0m\u001b[0;34m.\u001b[0m\u001b[0m_set_with_engine\u001b[0m\u001b[0;34m(\u001b[0m\u001b[0mkey\u001b[0m\u001b[0;34m,\u001b[0m \u001b[0mvalue\u001b[0m\u001b[0;34m)\u001b[0m\u001b[0;34m\u001b[0m\u001b[0;34m\u001b[0m\u001b[0m\n\u001b[0m\u001b[1;32m   1191\u001b[0m                 \u001b[0;32mreturn\u001b[0m\u001b[0;34m\u001b[0m\u001b[0;34m\u001b[0m\u001b[0m\n",
      "\u001b[0;32m~/opt/anaconda3/lib/python3.7/site-packages/pandas/core/series.py\u001b[0m in \u001b[0;36m_set_with_engine\u001b[0;34m(self, key, value)\u001b[0m\n\u001b[1;32m   1251\u001b[0m         \u001b[0;32mtry\u001b[0m\u001b[0;34m:\u001b[0m\u001b[0;34m\u001b[0m\u001b[0;34m\u001b[0m\u001b[0m\n\u001b[0;32m-> 1252\u001b[0;31m             \u001b[0mself\u001b[0m\u001b[0;34m.\u001b[0m\u001b[0mindex\u001b[0m\u001b[0;34m.\u001b[0m\u001b[0m_engine\u001b[0m\u001b[0;34m.\u001b[0m\u001b[0mset_value\u001b[0m\u001b[0;34m(\u001b[0m\u001b[0mvalues\u001b[0m\u001b[0;34m,\u001b[0m \u001b[0mkey\u001b[0m\u001b[0;34m,\u001b[0m \u001b[0mvalue\u001b[0m\u001b[0;34m)\u001b[0m\u001b[0;34m\u001b[0m\u001b[0;34m\u001b[0m\u001b[0m\n\u001b[0m\u001b[1;32m   1253\u001b[0m             \u001b[0;32mreturn\u001b[0m\u001b[0;34m\u001b[0m\u001b[0;34m\u001b[0m\u001b[0m\n",
      "\u001b[0;32mpandas/_libs/index.pyx\u001b[0m in \u001b[0;36mpandas._libs.index.IndexEngine.set_value\u001b[0;34m()\u001b[0m\n",
      "\u001b[0;32mpandas/_libs/index.pyx\u001b[0m in \u001b[0;36mpandas._libs.index.IndexEngine.set_value\u001b[0;34m()\u001b[0m\n",
      "\u001b[0;31mValueError\u001b[0m: setting an array element with a sequence.",
      "\nDuring handling of the above exception, another exception occurred:\n",
      "\u001b[0;31mTypeError\u001b[0m                                 Traceback (most recent call last)",
      "\u001b[0;32m~/opt/anaconda3/lib/python3.7/site-packages/pandas/core/internals/blocks.py\u001b[0m in \u001b[0;36msetitem\u001b[0;34m(self, indexer, value)\u001b[0m\n\u001b[1;32m    869\u001b[0m         \u001b[0;32mtry\u001b[0m\u001b[0;34m:\u001b[0m\u001b[0;34m\u001b[0m\u001b[0;34m\u001b[0m\u001b[0m\n\u001b[0;32m--> 870\u001b[0;31m             \u001b[0mvalue\u001b[0m \u001b[0;34m=\u001b[0m \u001b[0mself\u001b[0m\u001b[0;34m.\u001b[0m\u001b[0m_try_coerce_args\u001b[0m\u001b[0;34m(\u001b[0m\u001b[0mvalue\u001b[0m\u001b[0;34m)\u001b[0m\u001b[0;34m\u001b[0m\u001b[0;34m\u001b[0m\u001b[0m\n\u001b[0m\u001b[1;32m    871\u001b[0m         \u001b[0;32mexcept\u001b[0m \u001b[0;34m(\u001b[0m\u001b[0mTypeError\u001b[0m\u001b[0;34m,\u001b[0m \u001b[0mValueError\u001b[0m\u001b[0;34m)\u001b[0m\u001b[0;34m:\u001b[0m\u001b[0;34m\u001b[0m\u001b[0;34m\u001b[0m\u001b[0m\n",
      "\u001b[0;32m~/opt/anaconda3/lib/python3.7/site-packages/pandas/core/internals/blocks.py\u001b[0m in \u001b[0;36m_try_coerce_args\u001b[0;34m(self, other)\u001b[0m\n\u001b[1;32m    734\u001b[0m                     \u001b[0mtype\u001b[0m\u001b[0;34m(\u001b[0m\u001b[0mother\u001b[0m\u001b[0;34m)\u001b[0m\u001b[0;34m.\u001b[0m\u001b[0m__name__\u001b[0m\u001b[0;34m,\u001b[0m\u001b[0;34m\u001b[0m\u001b[0;34m\u001b[0m\u001b[0m\n\u001b[0;32m--> 735\u001b[0;31m                     \u001b[0mtype\u001b[0m\u001b[0;34m(\u001b[0m\u001b[0mself\u001b[0m\u001b[0;34m)\u001b[0m\u001b[0;34m.\u001b[0m\u001b[0m__name__\u001b[0m\u001b[0;34m.\u001b[0m\u001b[0mlower\u001b[0m\u001b[0;34m(\u001b[0m\u001b[0;34m)\u001b[0m\u001b[0;34m.\u001b[0m\u001b[0mreplace\u001b[0m\u001b[0;34m(\u001b[0m\u001b[0;34m\"Block\"\u001b[0m\u001b[0;34m,\u001b[0m \u001b[0;34m\"\"\u001b[0m\u001b[0;34m)\u001b[0m\u001b[0;34m,\u001b[0m\u001b[0;34m\u001b[0m\u001b[0;34m\u001b[0m\u001b[0m\n\u001b[0m\u001b[1;32m    736\u001b[0m                 )\n",
      "\u001b[0;31mTypeError\u001b[0m: cannot convert ndarray to an intblock",
      "\nDuring handling of the above exception, another exception occurred:\n",
      "\u001b[0;31mValueError\u001b[0m                                Traceback (most recent call last)",
      "\u001b[0;32m<ipython-input-117-fd2797b63667>\u001b[0m in \u001b[0;36m<module>\u001b[0;34m\u001b[0m\n\u001b[1;32m      3\u001b[0m \u001b[0;32mfor\u001b[0m \u001b[0mi\u001b[0m \u001b[0;32min\u001b[0m \u001b[0mrange\u001b[0m\u001b[0;34m(\u001b[0m\u001b[0mlen\u001b[0m\u001b[0;34m(\u001b[0m\u001b[0mdf\u001b[0m\u001b[0;34m)\u001b[0m\u001b[0;34m)\u001b[0m\u001b[0;34m:\u001b[0m\u001b[0;34m\u001b[0m\u001b[0;34m\u001b[0m\u001b[0m\n\u001b[1;32m      4\u001b[0m     \u001b[0;32mif\u001b[0m \u001b[0mdf\u001b[0m\u001b[0;34m[\u001b[0m\u001b[0;34m\"Sex\"\u001b[0m\u001b[0;34m]\u001b[0m\u001b[0;34m[\u001b[0m\u001b[0mi\u001b[0m\u001b[0;34m]\u001b[0m\u001b[0;34m==\u001b[0m\u001b[0;34m\"male\"\u001b[0m\u001b[0;34m:\u001b[0m\u001b[0;34m\u001b[0m\u001b[0;34m\u001b[0m\u001b[0m\n\u001b[0;32m----> 5\u001b[0;31m         \u001b[0mdf\u001b[0m\u001b[0;34m[\u001b[0m\u001b[0;34m\"Height\"\u001b[0m\u001b[0;34m]\u001b[0m\u001b[0;34m[\u001b[0m\u001b[0mi\u001b[0m\u001b[0;34m]\u001b[0m\u001b[0;34m=\u001b[0m\u001b[0mrng\u001b[0m\u001b[0;34m.\u001b[0m\u001b[0mnormal\u001b[0m\u001b[0;34m(\u001b[0m\u001b[0;36m172\u001b[0m\u001b[0;34m,\u001b[0m\u001b[0;36m8\u001b[0m\u001b[0;34m,\u001b[0m\u001b[0;36m1000\u001b[0m\u001b[0;34m)\u001b[0m\u001b[0;34m\u001b[0m\u001b[0;34m\u001b[0m\u001b[0m\n\u001b[0m\u001b[1;32m      6\u001b[0m     \u001b[0;32melse\u001b[0m\u001b[0;34m:\u001b[0m\u001b[0;34m\u001b[0m\u001b[0;34m\u001b[0m\u001b[0m\n\u001b[1;32m      7\u001b[0m         \u001b[0mdf\u001b[0m\u001b[0;34m[\u001b[0m\u001b[0;34m\"Height\"\u001b[0m\u001b[0;34m]\u001b[0m\u001b[0;34m[\u001b[0m\u001b[0mi\u001b[0m\u001b[0;34m]\u001b[0m\u001b[0;34m=\u001b[0m\u001b[0mrng\u001b[0m\u001b[0;34m.\u001b[0m\u001b[0mnormal\u001b[0m\u001b[0;34m(\u001b[0m\u001b[0;36m172\u001b[0m\u001b[0;34m,\u001b[0m\u001b[0;36m8\u001b[0m\u001b[0;34m,\u001b[0m\u001b[0;36m1000\u001b[0m\u001b[0;34m)\u001b[0m\u001b[0;34m\u001b[0m\u001b[0;34m\u001b[0m\u001b[0m\n",
      "\u001b[0;32m~/opt/anaconda3/lib/python3.7/site-packages/pandas/core/series.py\u001b[0m in \u001b[0;36m__setitem__\u001b[0;34m(self, key, value)\u001b[0m\n\u001b[1;32m   1239\u001b[0m         \u001b[0;31m# do the setitem\u001b[0m\u001b[0;34m\u001b[0m\u001b[0;34m\u001b[0m\u001b[0;34m\u001b[0m\u001b[0m\n\u001b[1;32m   1240\u001b[0m         \u001b[0mcacher_needs_updating\u001b[0m \u001b[0;34m=\u001b[0m \u001b[0mself\u001b[0m\u001b[0;34m.\u001b[0m\u001b[0m_check_is_chained_assignment_possible\u001b[0m\u001b[0;34m(\u001b[0m\u001b[0;34m)\u001b[0m\u001b[0;34m\u001b[0m\u001b[0;34m\u001b[0m\u001b[0m\n\u001b[0;32m-> 1241\u001b[0;31m         \u001b[0msetitem\u001b[0m\u001b[0;34m(\u001b[0m\u001b[0mkey\u001b[0m\u001b[0;34m,\u001b[0m \u001b[0mvalue\u001b[0m\u001b[0;34m)\u001b[0m\u001b[0;34m\u001b[0m\u001b[0;34m\u001b[0m\u001b[0m\n\u001b[0m\u001b[1;32m   1242\u001b[0m         \u001b[0;32mif\u001b[0m \u001b[0mcacher_needs_updating\u001b[0m\u001b[0;34m:\u001b[0m\u001b[0;34m\u001b[0m\u001b[0;34m\u001b[0m\u001b[0m\n\u001b[1;32m   1243\u001b[0m             \u001b[0mself\u001b[0m\u001b[0;34m.\u001b[0m\u001b[0m_maybe_update_cacher\u001b[0m\u001b[0;34m(\u001b[0m\u001b[0;34m)\u001b[0m\u001b[0;34m\u001b[0m\u001b[0;34m\u001b[0m\u001b[0m\n",
      "\u001b[0;32m~/opt/anaconda3/lib/python3.7/site-packages/pandas/core/series.py\u001b[0m in \u001b[0;36msetitem\u001b[0;34m(key, value)\u001b[0m\n\u001b[1;32m   1216\u001b[0m                             \u001b[0;32mpass\u001b[0m\u001b[0;34m\u001b[0m\u001b[0;34m\u001b[0m\u001b[0m\n\u001b[1;32m   1217\u001b[0m \u001b[0;34m\u001b[0m\u001b[0m\n\u001b[0;32m-> 1218\u001b[0;31m                 \u001b[0mself\u001b[0m\u001b[0;34m.\u001b[0m\u001b[0mloc\u001b[0m\u001b[0;34m[\u001b[0m\u001b[0mkey\u001b[0m\u001b[0;34m]\u001b[0m \u001b[0;34m=\u001b[0m \u001b[0mvalue\u001b[0m\u001b[0;34m\u001b[0m\u001b[0;34m\u001b[0m\u001b[0m\n\u001b[0m\u001b[1;32m   1219\u001b[0m                 \u001b[0;32mreturn\u001b[0m\u001b[0;34m\u001b[0m\u001b[0;34m\u001b[0m\u001b[0m\n\u001b[1;32m   1220\u001b[0m \u001b[0;34m\u001b[0m\u001b[0m\n",
      "\u001b[0;32m~/opt/anaconda3/lib/python3.7/site-packages/pandas/core/indexing.py\u001b[0m in \u001b[0;36m__setitem__\u001b[0;34m(self, key, value)\u001b[0m\n\u001b[1;32m    203\u001b[0m             \u001b[0mkey\u001b[0m \u001b[0;34m=\u001b[0m \u001b[0mcom\u001b[0m\u001b[0;34m.\u001b[0m\u001b[0mapply_if_callable\u001b[0m\u001b[0;34m(\u001b[0m\u001b[0mkey\u001b[0m\u001b[0;34m,\u001b[0m \u001b[0mself\u001b[0m\u001b[0;34m.\u001b[0m\u001b[0mobj\u001b[0m\u001b[0;34m)\u001b[0m\u001b[0;34m\u001b[0m\u001b[0;34m\u001b[0m\u001b[0m\n\u001b[1;32m    204\u001b[0m         \u001b[0mindexer\u001b[0m \u001b[0;34m=\u001b[0m \u001b[0mself\u001b[0m\u001b[0;34m.\u001b[0m\u001b[0m_get_setitem_indexer\u001b[0m\u001b[0;34m(\u001b[0m\u001b[0mkey\u001b[0m\u001b[0;34m)\u001b[0m\u001b[0;34m\u001b[0m\u001b[0;34m\u001b[0m\u001b[0m\n\u001b[0;32m--> 205\u001b[0;31m         \u001b[0mself\u001b[0m\u001b[0;34m.\u001b[0m\u001b[0m_setitem_with_indexer\u001b[0m\u001b[0;34m(\u001b[0m\u001b[0mindexer\u001b[0m\u001b[0;34m,\u001b[0m \u001b[0mvalue\u001b[0m\u001b[0;34m)\u001b[0m\u001b[0;34m\u001b[0m\u001b[0;34m\u001b[0m\u001b[0m\n\u001b[0m\u001b[1;32m    206\u001b[0m \u001b[0;34m\u001b[0m\u001b[0m\n\u001b[1;32m    207\u001b[0m     \u001b[0;32mdef\u001b[0m \u001b[0m_validate_key\u001b[0m\u001b[0;34m(\u001b[0m\u001b[0mself\u001b[0m\u001b[0;34m,\u001b[0m \u001b[0mkey\u001b[0m\u001b[0;34m,\u001b[0m \u001b[0maxis\u001b[0m\u001b[0;34m:\u001b[0m \u001b[0mint\u001b[0m\u001b[0;34m)\u001b[0m\u001b[0;34m:\u001b[0m\u001b[0;34m\u001b[0m\u001b[0;34m\u001b[0m\u001b[0m\n",
      "\u001b[0;32m~/opt/anaconda3/lib/python3.7/site-packages/pandas/core/indexing.py\u001b[0m in \u001b[0;36m_setitem_with_indexer\u001b[0;34m(self, indexer, value)\u001b[0m\n\u001b[1;32m    591\u001b[0m             \u001b[0;31m# actually do the set\u001b[0m\u001b[0;34m\u001b[0m\u001b[0;34m\u001b[0m\u001b[0;34m\u001b[0m\u001b[0m\n\u001b[1;32m    592\u001b[0m             \u001b[0mself\u001b[0m\u001b[0;34m.\u001b[0m\u001b[0mobj\u001b[0m\u001b[0;34m.\u001b[0m\u001b[0m_consolidate_inplace\u001b[0m\u001b[0;34m(\u001b[0m\u001b[0;34m)\u001b[0m\u001b[0;34m\u001b[0m\u001b[0;34m\u001b[0m\u001b[0m\n\u001b[0;32m--> 593\u001b[0;31m             \u001b[0mself\u001b[0m\u001b[0;34m.\u001b[0m\u001b[0mobj\u001b[0m\u001b[0;34m.\u001b[0m\u001b[0m_data\u001b[0m \u001b[0;34m=\u001b[0m \u001b[0mself\u001b[0m\u001b[0;34m.\u001b[0m\u001b[0mobj\u001b[0m\u001b[0;34m.\u001b[0m\u001b[0m_data\u001b[0m\u001b[0;34m.\u001b[0m\u001b[0msetitem\u001b[0m\u001b[0;34m(\u001b[0m\u001b[0mindexer\u001b[0m\u001b[0;34m=\u001b[0m\u001b[0mindexer\u001b[0m\u001b[0;34m,\u001b[0m \u001b[0mvalue\u001b[0m\u001b[0;34m=\u001b[0m\u001b[0mvalue\u001b[0m\u001b[0;34m)\u001b[0m\u001b[0;34m\u001b[0m\u001b[0;34m\u001b[0m\u001b[0m\n\u001b[0m\u001b[1;32m    594\u001b[0m             \u001b[0mself\u001b[0m\u001b[0;34m.\u001b[0m\u001b[0mobj\u001b[0m\u001b[0;34m.\u001b[0m\u001b[0m_maybe_update_cacher\u001b[0m\u001b[0;34m(\u001b[0m\u001b[0mclear\u001b[0m\u001b[0;34m=\u001b[0m\u001b[0;32mTrue\u001b[0m\u001b[0;34m)\u001b[0m\u001b[0;34m\u001b[0m\u001b[0;34m\u001b[0m\u001b[0m\n\u001b[1;32m    595\u001b[0m \u001b[0;34m\u001b[0m\u001b[0m\n",
      "\u001b[0;32m~/opt/anaconda3/lib/python3.7/site-packages/pandas/core/internals/managers.py\u001b[0m in \u001b[0;36msetitem\u001b[0;34m(self, **kwargs)\u001b[0m\n\u001b[1;32m    558\u001b[0m \u001b[0;34m\u001b[0m\u001b[0m\n\u001b[1;32m    559\u001b[0m     \u001b[0;32mdef\u001b[0m \u001b[0msetitem\u001b[0m\u001b[0;34m(\u001b[0m\u001b[0mself\u001b[0m\u001b[0;34m,\u001b[0m \u001b[0;34m**\u001b[0m\u001b[0mkwargs\u001b[0m\u001b[0;34m)\u001b[0m\u001b[0;34m:\u001b[0m\u001b[0;34m\u001b[0m\u001b[0;34m\u001b[0m\u001b[0m\n\u001b[0;32m--> 560\u001b[0;31m         \u001b[0;32mreturn\u001b[0m \u001b[0mself\u001b[0m\u001b[0;34m.\u001b[0m\u001b[0mapply\u001b[0m\u001b[0;34m(\u001b[0m\u001b[0;34m\"setitem\"\u001b[0m\u001b[0;34m,\u001b[0m \u001b[0;34m**\u001b[0m\u001b[0mkwargs\u001b[0m\u001b[0;34m)\u001b[0m\u001b[0;34m\u001b[0m\u001b[0;34m\u001b[0m\u001b[0m\n\u001b[0m\u001b[1;32m    561\u001b[0m \u001b[0;34m\u001b[0m\u001b[0m\n\u001b[1;32m    562\u001b[0m     \u001b[0;32mdef\u001b[0m \u001b[0mputmask\u001b[0m\u001b[0;34m(\u001b[0m\u001b[0mself\u001b[0m\u001b[0;34m,\u001b[0m \u001b[0;34m**\u001b[0m\u001b[0mkwargs\u001b[0m\u001b[0;34m)\u001b[0m\u001b[0;34m:\u001b[0m\u001b[0;34m\u001b[0m\u001b[0;34m\u001b[0m\u001b[0m\n",
      "\u001b[0;32m~/opt/anaconda3/lib/python3.7/site-packages/pandas/core/internals/managers.py\u001b[0m in \u001b[0;36mapply\u001b[0;34m(self, f, axes, filter, do_integrity_check, consolidate, **kwargs)\u001b[0m\n\u001b[1;32m    436\u001b[0m                     \u001b[0mkwargs\u001b[0m\u001b[0;34m[\u001b[0m\u001b[0mk\u001b[0m\u001b[0;34m]\u001b[0m \u001b[0;34m=\u001b[0m \u001b[0mobj\u001b[0m\u001b[0;34m.\u001b[0m\u001b[0mreindex\u001b[0m\u001b[0;34m(\u001b[0m\u001b[0mb_items\u001b[0m\u001b[0;34m,\u001b[0m \u001b[0maxis\u001b[0m\u001b[0;34m=\u001b[0m\u001b[0maxis\u001b[0m\u001b[0;34m,\u001b[0m \u001b[0mcopy\u001b[0m\u001b[0;34m=\u001b[0m\u001b[0malign_copy\u001b[0m\u001b[0;34m)\u001b[0m\u001b[0;34m\u001b[0m\u001b[0;34m\u001b[0m\u001b[0m\n\u001b[1;32m    437\u001b[0m \u001b[0;34m\u001b[0m\u001b[0m\n\u001b[0;32m--> 438\u001b[0;31m             \u001b[0mapplied\u001b[0m \u001b[0;34m=\u001b[0m \u001b[0mgetattr\u001b[0m\u001b[0;34m(\u001b[0m\u001b[0mb\u001b[0m\u001b[0;34m,\u001b[0m \u001b[0mf\u001b[0m\u001b[0;34m)\u001b[0m\u001b[0;34m(\u001b[0m\u001b[0;34m**\u001b[0m\u001b[0mkwargs\u001b[0m\u001b[0;34m)\u001b[0m\u001b[0;34m\u001b[0m\u001b[0;34m\u001b[0m\u001b[0m\n\u001b[0m\u001b[1;32m    439\u001b[0m             \u001b[0mresult_blocks\u001b[0m \u001b[0;34m=\u001b[0m \u001b[0m_extend_blocks\u001b[0m\u001b[0;34m(\u001b[0m\u001b[0mapplied\u001b[0m\u001b[0;34m,\u001b[0m \u001b[0mresult_blocks\u001b[0m\u001b[0;34m)\u001b[0m\u001b[0;34m\u001b[0m\u001b[0;34m\u001b[0m\u001b[0m\n\u001b[1;32m    440\u001b[0m \u001b[0;34m\u001b[0m\u001b[0m\n",
      "\u001b[0;32m~/opt/anaconda3/lib/python3.7/site-packages/pandas/core/internals/blocks.py\u001b[0m in \u001b[0;36msetitem\u001b[0;34m(self, indexer, value)\u001b[0m\n\u001b[1;32m    891\u001b[0m                 \u001b[0;32mif\u001b[0m \u001b[0;32mnot\u001b[0m \u001b[0mis_dtype_equal\u001b[0m\u001b[0;34m(\u001b[0m\u001b[0mself\u001b[0m\u001b[0;34m.\u001b[0m\u001b[0mdtype\u001b[0m\u001b[0;34m,\u001b[0m \u001b[0mdtype\u001b[0m\u001b[0;34m)\u001b[0m\u001b[0;34m:\u001b[0m\u001b[0;34m\u001b[0m\u001b[0;34m\u001b[0m\u001b[0m\n\u001b[1;32m    892\u001b[0m                     \u001b[0mb\u001b[0m \u001b[0;34m=\u001b[0m \u001b[0mself\u001b[0m\u001b[0;34m.\u001b[0m\u001b[0mastype\u001b[0m\u001b[0;34m(\u001b[0m\u001b[0mdtype\u001b[0m\u001b[0;34m)\u001b[0m\u001b[0;34m\u001b[0m\u001b[0;34m\u001b[0m\u001b[0m\n\u001b[0;32m--> 893\u001b[0;31m                     \u001b[0;32mreturn\u001b[0m \u001b[0mb\u001b[0m\u001b[0;34m.\u001b[0m\u001b[0msetitem\u001b[0m\u001b[0;34m(\u001b[0m\u001b[0mindexer\u001b[0m\u001b[0;34m,\u001b[0m \u001b[0mvalue\u001b[0m\u001b[0;34m)\u001b[0m\u001b[0;34m\u001b[0m\u001b[0;34m\u001b[0m\u001b[0m\n\u001b[0m\u001b[1;32m    894\u001b[0m         \u001b[0;32melse\u001b[0m\u001b[0;34m:\u001b[0m\u001b[0;34m\u001b[0m\u001b[0;34m\u001b[0m\u001b[0m\n\u001b[1;32m    895\u001b[0m             \u001b[0mvalues\u001b[0m \u001b[0;34m=\u001b[0m \u001b[0mself\u001b[0m\u001b[0;34m.\u001b[0m\u001b[0m_coerce_values\u001b[0m\u001b[0;34m(\u001b[0m\u001b[0mvalues\u001b[0m\u001b[0;34m)\u001b[0m\u001b[0;34m\u001b[0m\u001b[0;34m\u001b[0m\u001b[0m\n",
      "\u001b[0;32m~/opt/anaconda3/lib/python3.7/site-packages/pandas/core/internals/blocks.py\u001b[0m in \u001b[0;36msetitem\u001b[0;34m(self, indexer, value)\u001b[0m\n\u001b[1;32m    930\u001b[0m             \u001b[0;32mand\u001b[0m \u001b[0mnp\u001b[0m\u001b[0;34m.\u001b[0m\u001b[0mprod\u001b[0m\u001b[0;34m(\u001b[0m\u001b[0marr_value\u001b[0m\u001b[0;34m.\u001b[0m\u001b[0mshape\u001b[0m\u001b[0;34m)\u001b[0m \u001b[0;34m==\u001b[0m \u001b[0mnp\u001b[0m\u001b[0;34m.\u001b[0m\u001b[0mprod\u001b[0m\u001b[0;34m(\u001b[0m\u001b[0mvalues\u001b[0m\u001b[0;34m.\u001b[0m\u001b[0mshape\u001b[0m\u001b[0;34m)\u001b[0m\u001b[0;34m\u001b[0m\u001b[0;34m\u001b[0m\u001b[0m\n\u001b[1;32m    931\u001b[0m         ):\n\u001b[0;32m--> 932\u001b[0;31m             \u001b[0mvalues\u001b[0m\u001b[0;34m[\u001b[0m\u001b[0mindexer\u001b[0m\u001b[0;34m]\u001b[0m \u001b[0;34m=\u001b[0m \u001b[0mvalue\u001b[0m\u001b[0;34m\u001b[0m\u001b[0;34m\u001b[0m\u001b[0m\n\u001b[0m\u001b[1;32m    933\u001b[0m             \u001b[0;32mtry\u001b[0m\u001b[0;34m:\u001b[0m\u001b[0;34m\u001b[0m\u001b[0;34m\u001b[0m\u001b[0m\n\u001b[1;32m    934\u001b[0m                 \u001b[0mvalues\u001b[0m \u001b[0;34m=\u001b[0m \u001b[0mvalues\u001b[0m\u001b[0;34m.\u001b[0m\u001b[0mastype\u001b[0m\u001b[0;34m(\u001b[0m\u001b[0marr_value\u001b[0m\u001b[0;34m.\u001b[0m\u001b[0mdtype\u001b[0m\u001b[0;34m)\u001b[0m\u001b[0;34m\u001b[0m\u001b[0;34m\u001b[0m\u001b[0m\n",
      "\u001b[0;31mValueError\u001b[0m: setting an array element with a sequence."
     ]
    }
   ],
   "source": [
    "df[\"Height\"]=0\n",
    "\n",
    "for i in range(len(df)):\n",
    "    if df[\"Sex\"][i]==\"male\":\n",
    "        df[\"Height\"][i]=rng.normal(172,8,1000)\n",
    "    else:\n",
    "        df[\"Height\"][i]=rng.normal(172,8,1000)"
   ]
  },
  {
   "cell_type": "code",
   "execution_count": null,
   "metadata": {},
   "outputs": [],
   "source": []
  },
  {
   "cell_type": "code",
   "execution_count": null,
   "metadata": {},
   "outputs": [],
   "source": []
  },
  {
   "cell_type": "markdown",
   "metadata": {},
   "source": [
    "## Height "
   ]
  },
  {
   "cell_type": "code",
   "execution_count": 99,
   "metadata": {},
   "outputs": [],
   "source": [
    "height = rng.normal(172,8,1000)"
   ]
  },
  {
   "cell_type": "code",
   "execution_count": 100,
   "metadata": {},
   "outputs": [
    {
     "data": {
      "text/plain": [
       "array([170.94094764, 172.82503948, 180.06256395, 167.31845082,\n",
       "       182.20645889, 162.16632673, 181.26591979, 159.39672536,\n",
       "       172.60455278, 170.47510946, 172.61976192, 188.79550945,\n",
       "       166.94169394, 171.31311239, 173.14154358, 194.1739361 ,\n",
       "       176.99279404, 176.77356374, 163.73137714, 177.06545015,\n",
       "       178.55263848, 162.224228  , 167.29767904, 174.9957753 ,\n",
       "       172.80298177, 170.27374595, 170.21472209, 166.8799748 ,\n",
       "       157.25706835, 185.61508828, 176.8467315 , 169.49222082,\n",
       "       184.36040961, 172.71569277, 164.3980473 , 170.95738932,\n",
       "       170.91567448, 161.85925507, 163.27475584, 165.63644236,\n",
       "       168.52576273, 177.62068277, 162.26784181, 177.01703231,\n",
       "       183.56176548, 174.82995446, 157.1361904 , 164.08348385,\n",
       "       178.74236261, 185.19806299, 184.61949791, 166.21378649,\n",
       "       170.79755693, 173.28976648, 174.5803822 , 164.35579229,\n",
       "       183.61218829, 166.11550232, 168.72490575, 182.94329482,\n",
       "       157.45832033, 173.72526853, 181.0915123 , 167.86668092,\n",
       "       168.83035812, 168.98970189, 182.74262542, 186.49546968,\n",
       "       173.78524281, 163.21275148, 165.08089394, 169.52920956,\n",
       "       157.83838559, 166.50652705, 175.05783339, 160.18030478,\n",
       "       166.53159354, 171.44569712, 169.21056774, 175.3740125 ,\n",
       "       165.44260271, 185.83473958, 170.0546875 , 156.41805031,\n",
       "       161.96543196, 180.27818203, 160.35553762, 179.57160307,\n",
       "       180.44203822, 169.63402709, 173.03030112, 167.27672619,\n",
       "       171.69307287, 165.58593459, 173.46273847, 173.39280905,\n",
       "       178.37182326, 166.39437437, 182.2626427 , 154.17337598,\n",
       "       175.96462413, 174.27228096, 168.58672779, 172.06457072,\n",
       "       161.248796  , 178.20949207, 186.00912122, 169.23545384,\n",
       "       158.02956172, 173.19429007, 185.78987401, 178.65359918,\n",
       "       183.7590881 , 174.14351326, 177.48301208, 176.25872744,\n",
       "       168.07580115, 163.39775597, 154.71123145, 172.07730272,\n",
       "       176.23906126, 159.71387601, 174.34622285, 161.51866527,\n",
       "       169.82650844, 173.80856953, 152.71454046, 168.05699609,\n",
       "       181.63404764, 172.4734839 , 163.75311324, 175.84253194,\n",
       "       171.46544722, 179.41839411, 174.74524101, 166.75656323,\n",
       "       173.41103353, 168.06232007, 172.92661413, 155.26676536,\n",
       "       171.13745834, 181.37555485, 162.38177471, 168.68228741,\n",
       "       158.52571581, 165.60513516, 174.41507647, 180.00447264,\n",
       "       191.20609656, 173.39544274, 180.04775142, 164.85525709,\n",
       "       171.20475162, 183.46514235, 168.27488973, 167.01229157,\n",
       "       168.70968964, 177.42320744, 160.82256085, 173.28667938,\n",
       "       176.61518419, 169.34812036, 172.01493902, 173.01038803,\n",
       "       183.88692089, 168.75596919, 160.59506486, 166.99938744,\n",
       "       170.52471988, 170.6627053 , 169.36010603, 169.36521742,\n",
       "       180.84603067, 182.67602668, 169.28771217, 182.77649033,\n",
       "       166.11789588, 168.3252364 , 172.9573008 , 157.80588589,\n",
       "       178.92811241, 174.87772763, 172.30600014, 168.08438404,\n",
       "       179.49300553, 168.51623761, 166.34757389, 178.3882816 ,\n",
       "       173.71503798, 164.82002738, 159.03591017, 167.44207085,\n",
       "       189.01504228, 173.38434279, 161.38149842, 167.38938494,\n",
       "       165.49329282, 158.97806566, 178.13120752, 181.61305642,\n",
       "       179.16199286, 168.24873799, 176.35748008, 163.60336661,\n",
       "       166.32035579, 176.07078256, 170.07174728, 166.88550038,\n",
       "       179.94205047, 174.08061062, 177.15174684, 179.35907696,\n",
       "       167.47099152, 163.72511603, 170.08079539, 161.05474977,\n",
       "       172.6277605 , 167.93220567, 165.94047608, 168.93786138,\n",
       "       185.1066259 , 180.4018154 , 165.15202592, 177.33565168,\n",
       "       175.77854261, 185.44126592, 157.7315527 , 155.45292605,\n",
       "       161.6314577 , 167.69490112, 157.86817253, 177.4150857 ,\n",
       "       155.87194249, 167.71260235, 172.06711708, 166.09251263,\n",
       "       173.11930221, 169.92477468, 168.29054396, 183.9437713 ,\n",
       "       164.2450121 , 165.66940272, 169.45501313, 179.53860511,\n",
       "       174.80551475, 161.09463123, 171.70723504, 180.38717716,\n",
       "       171.84649677, 177.42032037, 178.74892331, 176.60262241,\n",
       "       169.23516199, 182.27467125, 170.58560348, 154.27730432,\n",
       "       171.14139106, 186.18492737, 166.30093315, 165.17851348,\n",
       "       160.87353933, 160.16868244, 168.40354923, 178.63884622,\n",
       "       168.70652938, 175.08990916, 180.96041343, 160.3570039 ,\n",
       "       165.67518606, 180.28371775, 173.85946811, 170.06289212,\n",
       "       162.03169265, 180.76113311, 177.58046654, 168.14602566,\n",
       "       173.10319785, 156.2819088 , 169.1096021 , 179.42998257,\n",
       "       163.3119074 , 170.94614814, 168.7808301 , 183.88741972,\n",
       "       175.90209237, 174.60527381, 185.70723273, 166.00876764,\n",
       "       180.13887711, 182.07434532, 180.45423701, 188.08590255,\n",
       "       176.94764976, 183.25790248, 181.9456561 , 176.27946937,\n",
       "       148.17530611, 177.10844229, 173.28759532, 160.02716317,\n",
       "       171.58483991, 159.66419276, 178.75798501, 181.82758954,\n",
       "       179.00027138, 170.42881678, 185.57708613, 165.48823454,\n",
       "       172.40606193, 178.17282958, 182.72185369, 174.88441775,\n",
       "       174.40458085, 179.54632927, 180.15942696, 169.32657066,\n",
       "       172.24598665, 166.42626478, 164.68403871, 164.54888289,\n",
       "       172.03578409, 170.44555408, 187.01276186, 158.91798329,\n",
       "       183.94933243, 173.92931477, 172.08418274, 150.32742755,\n",
       "       171.64670916, 171.97433169, 160.90719307, 176.91678064,\n",
       "       179.83097661, 177.61287088, 161.09222581, 191.70548222,\n",
       "       157.74495951, 167.24289368, 180.36782572, 179.20004007,\n",
       "       174.0316046 , 173.70522003, 179.13217708, 167.18864761,\n",
       "       182.82895982, 181.93567686, 167.00183998, 174.04918624,\n",
       "       168.22761774, 171.29687257, 168.74565691, 188.02128427,\n",
       "       180.73056153, 169.25834988, 176.24672864, 176.48066465,\n",
       "       155.04861827, 169.62465702, 186.82085163, 175.00437287,\n",
       "       169.03385505, 180.17694936, 158.88415759, 170.56673045,\n",
       "       186.57000714, 174.76679228, 169.59463339, 179.29613137,\n",
       "       169.52445861, 164.40754016, 169.45968795, 168.64608347,\n",
       "       155.99507734, 166.26178394, 170.17028763, 160.84973226,\n",
       "       172.73659979, 171.28463116, 161.26537874, 173.17314078,\n",
       "       180.62730498, 151.96080843, 178.63473045, 162.39702834,\n",
       "       169.52068259, 166.11392855, 173.58383391, 177.28046065,\n",
       "       170.76282785, 173.56667339, 168.67720922, 178.67937141,\n",
       "       166.48395997, 177.66211318, 170.89098194, 171.79390632,\n",
       "       172.6008702 , 169.04619875, 175.91624551, 166.71891099,\n",
       "       179.05498414, 165.67989482, 154.88246899, 179.55683821,\n",
       "       163.09337237, 165.08795519, 186.77218781, 176.3284967 ,\n",
       "       171.67026945, 164.51130681, 177.654702  , 178.27039671,\n",
       "       174.77951396, 174.79136643, 175.56961568, 165.46902498,\n",
       "       191.79890862, 176.12239675, 164.33609156, 165.59567726,\n",
       "       163.41316713, 168.92831014, 171.82369314, 164.70275997,\n",
       "       177.01436762, 157.69440041, 174.50942662, 162.37449639,\n",
       "       159.36107713, 190.13579013, 176.80840142, 184.46329881,\n",
       "       165.37763018, 161.63597271, 166.77698367, 176.81715793,\n",
       "       181.31896139, 175.77819571, 169.86744058, 155.36832855,\n",
       "       166.14827205, 157.10677688, 167.01445683, 176.72890908,\n",
       "       178.15926587, 180.28420584, 171.75968924, 159.41229301,\n",
       "       172.5709911 , 165.60602983, 174.69967846, 176.0378795 ,\n",
       "       170.9681933 , 170.3951833 , 196.64176842, 163.49251685,\n",
       "       169.51486781, 175.90226654, 180.11887728, 172.3336892 ,\n",
       "       164.33409329, 173.90213773, 170.88231429, 175.74398414,\n",
       "       173.19141144, 158.76013665, 162.49029812, 171.91226951,\n",
       "       189.06342131, 174.84189341, 176.18960229, 169.60460432,\n",
       "       184.72431496, 160.3763082 , 182.82973717, 188.41234948,\n",
       "       172.28734389, 167.26416218, 173.65890845, 158.45516057,\n",
       "       178.65503645, 171.48510342, 176.36908341, 175.81059552,\n",
       "       167.20202415, 174.5226048 , 165.95647971, 187.86889022,\n",
       "       179.26321001, 169.44449479, 172.98513195, 172.27813693,\n",
       "       191.2346511 , 170.9766013 , 166.27898671, 169.74595157,\n",
       "       171.58525954, 161.80741745, 174.01778692, 169.66765223,\n",
       "       170.9150003 , 163.26427297, 164.95582625, 181.81498151,\n",
       "       182.79585543, 167.63652892, 188.46240145, 175.25521707,\n",
       "       175.90149031, 154.25957395, 154.1067631 , 173.95075794,\n",
       "       169.66746683, 169.75391934, 173.16625578, 172.77076958,\n",
       "       177.89147666, 170.37171411, 153.81017009, 170.35583123,\n",
       "       172.73180249, 179.0614512 , 149.05812907, 172.25061997,\n",
       "       168.52427372, 156.52622183, 160.62422522, 179.46785819,\n",
       "       179.87391127, 163.12989786, 178.66955828, 159.78751014,\n",
       "       182.98093968, 180.58630856, 166.7574543 , 173.75516985,\n",
       "       174.96524644, 169.03750248, 175.57394432, 159.26124709,\n",
       "       174.00324432, 173.96271199, 163.56426253, 177.39734792,\n",
       "       162.11675704, 163.83499151, 186.44144186, 185.56274841,\n",
       "       164.43774148, 165.96083765, 182.05808597, 171.73850443,\n",
       "       180.15627378, 168.62038059, 176.67135483, 159.57662544,\n",
       "       163.29782513, 201.89017288, 167.21091236, 169.04010335,\n",
       "       165.07260258, 168.09358759, 172.64445035, 175.03931401,\n",
       "       173.22113608, 163.31545786, 156.57204   , 171.91424661,\n",
       "       166.87556744, 181.4651207 , 170.1137092 , 171.69423738,\n",
       "       180.14174657, 172.8112337 , 173.66119878, 179.37533596,\n",
       "       166.9262037 , 180.19950968, 175.57957335, 182.56440594,\n",
       "       168.69408102, 166.68501844, 170.91659152, 158.5534836 ,\n",
       "       170.76506112, 173.07143394, 155.31725084, 171.03655255,\n",
       "       176.49225124, 173.01176466, 185.97388212, 158.74105852,\n",
       "       188.91346759, 176.74628466, 168.84440663, 165.23545198,\n",
       "       178.27160465, 170.26440287, 161.75537029, 168.91905266,\n",
       "       175.00851384, 168.18202771, 168.63957409, 176.01710578,\n",
       "       159.06005436, 180.85437842, 176.69305682, 175.37749354,\n",
       "       177.25546252, 179.06162814, 174.10594431, 168.21691745,\n",
       "       167.7620956 , 186.19933034, 184.47580339, 169.5685446 ,\n",
       "       169.21622125, 172.59207456, 168.21915887, 167.40791459,\n",
       "       172.13634055, 178.57949743, 156.48223584, 186.39654862,\n",
       "       166.18294476, 180.03115603, 180.70454793, 168.37307632,\n",
       "       168.45885477, 166.5149895 , 173.44084692, 165.20483733,\n",
       "       162.91510225, 192.56953885, 167.63382348, 163.45755395,\n",
       "       164.97749356, 163.68232048, 172.81852732, 159.72263773,\n",
       "       170.44131945, 177.47639884, 160.9410797 , 180.73586046,\n",
       "       155.82421153, 164.12969776, 179.93915309, 164.66130251,\n",
       "       169.19750126, 153.75408583, 179.33345536, 177.40137846,\n",
       "       178.37732278, 171.57471924, 172.68418398, 175.25569295,\n",
       "       171.19761761, 171.72688461, 177.74724764, 175.00252299,\n",
       "       183.84085176, 185.25434359, 188.26249269, 185.91026123,\n",
       "       167.36025123, 166.75803563, 185.15610183, 179.80666918,\n",
       "       175.29659374, 184.29417684, 171.86990448, 160.80277672,\n",
       "       178.20746288, 168.09510592, 174.05534738, 173.83206086,\n",
       "       180.52760771, 178.64793711, 180.34156538, 155.50914238,\n",
       "       176.94494295, 167.40721063, 177.39924836, 171.94795743,\n",
       "       176.95013215, 176.27682183, 181.58169865, 184.99755493,\n",
       "       168.62548805, 180.82636946, 181.72283834, 174.35728143,\n",
       "       170.23463644, 176.90782383, 167.72473197, 170.88550702,\n",
       "       178.15380999, 181.18738714, 173.41950402, 164.11001455,\n",
       "       169.2559028 , 167.20909573, 171.62315257, 154.27979417,\n",
       "       166.99600423, 175.64573843, 169.37165418, 167.26253363,\n",
       "       175.72877327, 170.22029203, 167.76553378, 174.05697897,\n",
       "       172.82331033, 157.91482659, 162.55963716, 171.37233625,\n",
       "       168.00176311, 172.55465938, 176.58205542, 172.39179324,\n",
       "       166.27551457, 168.87999115, 161.2077176 , 169.83567505,\n",
       "       163.87091137, 163.80449981, 164.88164393, 161.34965672,\n",
       "       168.91431553, 175.64668307, 160.43751813, 167.35068887,\n",
       "       177.84329396, 181.57227608, 167.28031436, 180.24738247,\n",
       "       161.40876082, 166.36617352, 168.2520756 , 178.80543118,\n",
       "       179.62364883, 159.74133076, 176.83423102, 165.94423449,\n",
       "       164.40917521, 172.28157379, 161.93658331, 173.28293231,\n",
       "       168.3761607 , 177.79166908, 180.76334674, 162.76280102,\n",
       "       164.70115243, 173.57126115, 186.98642586, 183.42675625,\n",
       "       169.86109492, 164.6114102 , 172.32184366, 181.92529201,\n",
       "       164.19987838, 173.47031976, 166.53947794, 180.75189262,\n",
       "       168.25153757, 177.45021586, 170.61937831, 165.17878567,\n",
       "       171.65406343, 174.22903354, 176.90662569, 170.69082146,\n",
       "       175.66912449, 172.0477846 , 177.26192681, 164.84946716,\n",
       "       169.98173414, 170.5039384 , 185.58859279, 184.08141582,\n",
       "       179.47095185, 172.20239561, 154.53165321, 172.21805983,\n",
       "       157.9394619 , 164.34808092, 170.41715765, 179.58323047,\n",
       "       182.72057362, 168.35724898, 171.01347361, 164.03091529,\n",
       "       164.35252879, 179.83305832, 154.51881237, 173.35258262,\n",
       "       184.47114378, 180.18539457, 167.00349622, 187.81734688,\n",
       "       174.39564108, 165.33393316, 181.06941833, 170.23970027,\n",
       "       173.84605376, 173.11159072, 191.27785782, 173.31986019,\n",
       "       161.7875023 , 176.25879099, 166.65828874, 167.619307  ,\n",
       "       174.02114986, 182.08687412, 172.23126772, 167.67301926,\n",
       "       169.65236808, 183.05133997, 174.772709  , 167.61845656,\n",
       "       156.90642756, 169.7470971 , 174.3771057 , 188.24304486,\n",
       "       180.07755027, 167.41878085, 162.2135474 , 180.51616573,\n",
       "       164.93477811, 178.41406514, 175.90247947, 178.28241557,\n",
       "       154.8709704 , 181.33710647, 155.03635227, 166.95397941,\n",
       "       166.89960134, 168.93977473, 185.82919204, 177.81129118,\n",
       "       173.77717248, 182.05332421, 174.99219237, 176.92062055,\n",
       "       176.57643438, 168.90958208, 169.28230185, 190.4665971 ,\n",
       "       172.69232383, 171.08825798, 177.11181206, 174.4679283 ,\n",
       "       169.16449456, 187.55711987, 173.07727238, 183.15341655,\n",
       "       164.78074672, 176.12007153, 168.08979903, 176.13337104,\n",
       "       176.40486191, 163.06971254, 166.09066171, 163.12762158,\n",
       "       168.03221013, 167.9433091 , 178.43613367, 172.95065616,\n",
       "       173.82851701, 177.84769908, 163.87167636, 172.67904351,\n",
       "       156.67851777, 175.76856225, 188.83533433, 168.89848906,\n",
       "       162.86339088, 180.54835232, 179.25082779, 167.7799023 ,\n",
       "       177.97585503, 160.15628621, 176.43109498, 175.3856088 ,\n",
       "       164.67063369, 176.25979228, 168.82383322, 171.97678376,\n",
       "       171.51328073, 166.07398275, 161.86458416, 165.3399301 ,\n",
       "       169.5345919 , 157.58093462, 176.66057889, 177.59600407,\n",
       "       171.7015687 , 176.23112214, 179.34706482, 176.2281814 ,\n",
       "       164.56998512, 182.04429045, 174.7043775 , 166.59512587,\n",
       "       174.35044834, 175.26115202, 171.32280242, 171.29436792,\n",
       "       166.71887602, 184.58362932, 171.189411  , 173.97763299,\n",
       "       170.36800591, 172.60763446, 168.44336094, 176.02971737,\n",
       "       181.75179326, 176.23599739, 161.88542402, 177.18792231,\n",
       "       173.74275463, 180.66174084, 177.36019446, 159.71206399,\n",
       "       177.81519065, 176.03961273, 175.06784489, 167.06876631,\n",
       "       185.18030345, 156.74708068, 177.9114522 , 172.32943412,\n",
       "       171.09758906, 165.99855808, 173.1248048 , 176.54660666,\n",
       "       180.52894125, 179.20453214, 165.29630062, 176.66968819,\n",
       "       180.5518378 , 185.27703226, 160.9968447 , 182.00736652,\n",
       "       190.07849851, 165.34209236, 166.88778293, 183.48066012,\n",
       "       173.01224407, 168.93670687, 170.75172342, 169.49063167,\n",
       "       163.04648647, 168.30060529, 180.18683088, 163.34823332,\n",
       "       179.81662608, 173.79112549, 172.65514588, 166.64049886,\n",
       "       159.80064617, 170.61775544, 167.87938594, 161.38378999,\n",
       "       163.32741952, 180.88764828, 184.62905726, 153.72061016,\n",
       "       174.29187099, 178.28984218, 170.83930527, 182.12387293,\n",
       "       169.68322743, 178.8507727 , 155.80732728, 157.34215908,\n",
       "       164.27042058, 171.5600748 , 163.60729761, 172.60966329,\n",
       "       179.00736381, 163.0006712 , 179.12940313, 162.25289176,\n",
       "       169.93613861, 176.44447648, 176.01422782, 176.59124882,\n",
       "       164.06079953, 175.42570278, 176.70919079, 178.73968129,\n",
       "       173.53314695, 177.91785518, 160.63850659, 168.7211734 ,\n",
       "       171.93628897, 179.76440526, 173.96378448, 157.86884069])"
      ]
     },
     "execution_count": 100,
     "metadata": {},
     "output_type": "execute_result"
    }
   ],
   "source": [
    "height\n"
   ]
  },
  {
   "cell_type": "code",
   "execution_count": 101,
   "metadata": {},
   "outputs": [
    {
     "data": {
      "text/plain": [
       "<seaborn.axisgrid.FacetGrid at 0x7fbfde9a82d0>"
      ]
     },
     "execution_count": 101,
     "metadata": {},
     "output_type": "execute_result"
    },
    {
     "data": {
      "image/png": "[encoded data removed]",
      "text/plain": [
       "<Figure size 360x360 with 1 Axes>"
      ]
     },
     "metadata": {
      "needs_background": "light"
     },
     "output_type": "display_data"
    }
   ],
   "source": [
    "sns.displot(height, kind=\"kde\")"
   ]
  },
  {
   "cell_type": "code",
   "execution_count": 106,
   "metadata": {},
   "outputs": [
    {
     "ename": "TypeError",
     "evalue": "first argument must be an iterable of pandas objects, you passed an object of type \"DataFrame\"",
     "output_type": "error",
     "traceback": [
      "\u001b[0;31m---------------------------------------------------------------------------\u001b[0m",
      "\u001b[0;31mTypeError\u001b[0m                                 Traceback (most recent call last)",
      "\u001b[0;32m<ipython-input-106-02cb7e4660d5>\u001b[0m in \u001b[0;36m<module>\u001b[0;34m\u001b[0m\n\u001b[0;32m----> 1\u001b[0;31m \u001b[0mdf\u001b[0m \u001b[0;34m=\u001b[0m \u001b[0mpd\u001b[0m\u001b[0;34m.\u001b[0m\u001b[0mconcat\u001b[0m\u001b[0;34m(\u001b[0m\u001b[0mdf\u001b[0m\u001b[0;34m,\u001b[0m \u001b[0mheight\u001b[0m\u001b[0;34m)\u001b[0m\u001b[0;34m\u001b[0m\u001b[0;34m\u001b[0m\u001b[0m\n\u001b[0m",
      "\u001b[0;32m~/opt/anaconda3/lib/python3.7/site-packages/pandas/core/reshape/concat.py\u001b[0m in \u001b[0;36mconcat\u001b[0;34m(objs, axis, join, join_axes, ignore_index, keys, levels, names, verify_integrity, sort, copy)\u001b[0m\n\u001b[1;32m    253\u001b[0m         \u001b[0mverify_integrity\u001b[0m\u001b[0;34m=\u001b[0m\u001b[0mverify_integrity\u001b[0m\u001b[0;34m,\u001b[0m\u001b[0;34m\u001b[0m\u001b[0;34m\u001b[0m\u001b[0m\n\u001b[1;32m    254\u001b[0m         \u001b[0mcopy\u001b[0m\u001b[0;34m=\u001b[0m\u001b[0mcopy\u001b[0m\u001b[0;34m,\u001b[0m\u001b[0;34m\u001b[0m\u001b[0;34m\u001b[0m\u001b[0m\n\u001b[0;32m--> 255\u001b[0;31m         \u001b[0msort\u001b[0m\u001b[0;34m=\u001b[0m\u001b[0msort\u001b[0m\u001b[0;34m,\u001b[0m\u001b[0;34m\u001b[0m\u001b[0;34m\u001b[0m\u001b[0m\n\u001b[0m\u001b[1;32m    256\u001b[0m     )\n\u001b[1;32m    257\u001b[0m \u001b[0;34m\u001b[0m\u001b[0m\n",
      "\u001b[0;32m~/opt/anaconda3/lib/python3.7/site-packages/pandas/core/reshape/concat.py\u001b[0m in \u001b[0;36m__init__\u001b[0;34m(self, objs, axis, join, join_axes, keys, levels, names, ignore_index, verify_integrity, copy, sort)\u001b[0m\n\u001b[1;32m    282\u001b[0m                 \u001b[0;34m\"first argument must be an iterable of pandas \"\u001b[0m\u001b[0;34m\u001b[0m\u001b[0;34m\u001b[0m\u001b[0m\n\u001b[1;32m    283\u001b[0m                 \u001b[0;34m\"objects, you passed an object of type \"\u001b[0m\u001b[0;34m\u001b[0m\u001b[0;34m\u001b[0m\u001b[0m\n\u001b[0;32m--> 284\u001b[0;31m                 \u001b[0;34m'\"{name}\"'\u001b[0m\u001b[0;34m.\u001b[0m\u001b[0mformat\u001b[0m\u001b[0;34m(\u001b[0m\u001b[0mname\u001b[0m\u001b[0;34m=\u001b[0m\u001b[0mtype\u001b[0m\u001b[0;34m(\u001b[0m\u001b[0mobjs\u001b[0m\u001b[0;34m)\u001b[0m\u001b[0;34m.\u001b[0m\u001b[0m__name__\u001b[0m\u001b[0;34m)\u001b[0m\u001b[0;34m\u001b[0m\u001b[0;34m\u001b[0m\u001b[0m\n\u001b[0m\u001b[1;32m    285\u001b[0m             )\n\u001b[1;32m    286\u001b[0m \u001b[0;34m\u001b[0m\u001b[0m\n",
      "\u001b[0;31mTypeError\u001b[0m: first argument must be an iterable of pandas objects, you passed an object of type \"DataFrame\""
     ]
    }
   ],
   "source": [
    "df = pd.concat(df, height)"
   ]
  },
  {
   "cell_type": "code",
   "execution_count": 105,
   "metadata": {},
   "outputs": [
    {
     "data": {
      "text/html": [
       "<div>\n",
       "<style scoped>\n",
       "    .dataframe tbody tr th:only-of-type {\n",
       "        vertical-align: middle;\n",
       "    }\n",
       "\n",
       "    .dataframe tbody tr th {\n",
       "        vertical-align: top;\n",
       "    }\n",
       "\n",
       "    .dataframe thead th {\n",
       "        text-align: right;\n",
       "    }\n",
       "</style>\n",
       "<table border=\"1\" class=\"dataframe\">\n",
       "  <thead>\n",
       "    <tr style=\"text-align: right;\">\n",
       "      <th></th>\n",
       "      <th>0</th>\n",
       "    </tr>\n",
       "  </thead>\n",
       "  <tbody>\n",
       "    <tr>\n",
       "      <td>170.940948</td>\n",
       "      <td>23</td>\n",
       "    </tr>\n",
       "    <tr>\n",
       "      <td>172.825039</td>\n",
       "      <td>21</td>\n",
       "    </tr>\n",
       "    <tr>\n",
       "      <td>180.062564</td>\n",
       "      <td>19</td>\n",
       "    </tr>\n",
       "    <tr>\n",
       "      <td>167.318451</td>\n",
       "      <td>18</td>\n",
       "    </tr>\n",
       "    <tr>\n",
       "      <td>182.206459</td>\n",
       "      <td>23</td>\n",
       "    </tr>\n",
       "    <tr>\n",
       "      <td>...</td>\n",
       "      <td>...</td>\n",
       "    </tr>\n",
       "    <tr>\n",
       "      <td>168.721173</td>\n",
       "      <td>21</td>\n",
       "    </tr>\n",
       "    <tr>\n",
       "      <td>171.936289</td>\n",
       "      <td>23</td>\n",
       "    </tr>\n",
       "    <tr>\n",
       "      <td>179.764405</td>\n",
       "      <td>18</td>\n",
       "    </tr>\n",
       "    <tr>\n",
       "      <td>173.963784</td>\n",
       "      <td>22</td>\n",
       "    </tr>\n",
       "    <tr>\n",
       "      <td>157.868841</td>\n",
       "      <td>22</td>\n",
       "    </tr>\n",
       "  </tbody>\n",
       "</table>\n",
       "<p>1000 rows × 1 columns</p>\n",
       "</div>"
      ],
      "text/plain": [
       "             0\n",
       "170.940948  23\n",
       "172.825039  21\n",
       "180.062564  19\n",
       "167.318451  18\n",
       "182.206459  23\n",
       "...         ..\n",
       "168.721173  21\n",
       "171.936289  23\n",
       "179.764405  18\n",
       "173.963784  22\n",
       "157.868841  22\n",
       "\n",
       "[1000 rows x 1 columns]"
      ]
     },
     "execution_count": 105,
     "metadata": {},
     "output_type": "execute_result"
    }
   ],
   "source": [
    "df"
   ]
  },
  {
   "cell_type": "code",
   "execution_count": null,
   "metadata": {},
   "outputs": [],
   "source": []
  },
  {
   "cell_type": "code",
   "execution_count": null,
   "metadata": {},
   "outputs": [],
   "source": []
  },
  {
   "cell_type": "code",
   "execution_count": null,
   "metadata": {},
   "outputs": [],
   "source": []
  },
  {
   "cell_type": "markdown",
   "metadata": {},
   "source": [
    "## References\n",
    "\n",
    "[1] https://mrmjournal.biomedcentral.com/articles/10.1186/s40248-016-0066-z#:~:text=Obesity%20causes%20mechanical%20compression%20of,and%20reduces%20respiratory%20muscle%20strength.\n",
    "\n",
    "[2] https://en.wikipedia.org/wiki/Severe_acute_respiratory_syndrome_coronavirus_2\n",
    "\n",
    "[3] https://www.pnas.org/content/117/36/22035\n",
    "\n",
    "[4] https://www.nature.com/articles/s41598-020-73777-8\n",
    "\n",
    "https://hselibrary.ie/what-is-the-risk-of-a-person-with-obesity-contracting-covid-19-compared-to-someone-without-obesity-what-is-the-risk-of-a-person-with-obesity-developing-severe-illness-from-covid-19-how-is-severe-ill/\n",
    "\n",
    "https://onlinelibrary.wiley.com/doi/full/10.1002/oby.22818?campaign=wolacceptedarticle&fbclid=IwAR1HR33IgvVlKadWx0pohO1A64g21vKRq8SFLRNvnoFhR5UsQQiIYNyyaTQ\n",
    "\n",
    "https://www.hopkinsmedicine.org/health/conditions-and-diseases/coronavirus\n",
    "\n",
    "Other Reference:\n",
    "\n",
    "https://pandas.pydata.org/pandas-docs/stable/reference/api/pandas.DataFrame.html"
   ]
  },
  {
   "cell_type": "code",
   "execution_count": null,
   "metadata": {},
   "outputs": [],
   "source": []
  }
 ],
 "metadata": {
  "kernelspec": {
   "display_name": "Python 3",
   "language": "python",
   "name": "python3"
  },
  "language_info": {
   "codemirror_mode": {
    "name": "ipython",
    "version": 3
   },
   "file_extension": ".py",
   "mimetype": "text/x-python",
   "name": "python",
   "nbconvert_exporter": "python",
   "pygments_lexer": "ipython3",
   "version": "3.7.4"
  }
 },
 "nbformat": 4,
 "nbformat_minor": 2
}
